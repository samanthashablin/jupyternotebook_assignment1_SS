{
 "cells": [
  {
   "cell_type": "markdown",
   "metadata": {},
   "source": [
    "### Problem 1\n",
    "\n",
    "Write a Python function, `find_max()`, to find and return the largest number in a non-empty list of numbers. E.g., if `nums = [1, 2, 3, 4, 5]`, `find_max(nums)` should return `5`. \n",
    "\n",
    "_Note:_ Python has a builtin `max()` function; don't use it for this exercise! The goal here is to practice solving basic programming problems on your own.\n",
    "\n",
    "_Purpose:_ To give you practice solving basic programming problems with Python and working with array-like data structures."
   ]
  },
  {
   "cell_type": "code",
   "execution_count": 60,
   "metadata": {},
   "outputs": [],
   "source": [
    "def find_max(list1): #definnig the function find_max and assigning numbers as list1\n",
    "    maxnum= list1[0] #starting at the very first number in the list\n",
    "    for x in list1:  #for each number in the list1 if x is larger than the number preceeding, then return that number\n",
    "        if x> maxnum:\n",
    "            maxnum=x\n",
    "    return maxnum    #returns the largest number in an array\n",
    "\n",
    "\n"
   ]
  },
  {
   "cell_type": "markdown",
   "metadata": {},
   "source": [
    "Create and test some sample lists to demonstrate that your `find_max()` function works correctly."
   ]
  },
  {
   "cell_type": "code",
   "execution_count": 61,
   "metadata": {},
   "outputs": [
    {
     "name": "stdout",
     "output_type": "stream",
     "text": [
      "10\n",
      "99\n"
     ]
    }
   ],
   "source": [
    "list1 = [5,8,7,9,10] #testing two separate lists with different numbers to check if find_max is working\n",
    "\n",
    "print(find_max(list1))\n",
    "\n",
    "list1 = [9,99,6,10]\n",
    "\n",
    "print(find_max(list1))\n",
    "#successfully printed largest numbers from both lists"
   ]
  },
  {
   "cell_type": "markdown",
   "metadata": {},
   "source": [
    "### Problem 2\n",
    "\n",
    "Write a Python function, `median()`, that returns the median value of a non-empty list of numbers. Use the [usual definition of \"median\"](https://stattrek.com/statistics/dictionary.aspx?definition=median). You will likely find the [Python list documentation](https://docs.python.org/3/tutorial/datastructures.html) to be helpful for solving this problem.\n",
    "\n",
    "_Note:_ You can find ready-to-use median function in numpy and elsewhere; don't use them for this exercise! The goal here is to practice solving basic programming problems on your own.\n",
    "\n",
    "_Purpose:_ To give you practice solving basic programming problems with Python and working with array-like data structures."
   ]
  },
  {
   "cell_type": "code",
   "execution_count": 62,
   "metadata": {},
   "outputs": [],
   "source": [
    "def median(list2): #defining the function median and object list2\n",
    "    list2= sorted(list2) #sorting list2 bc important to be sorted from smallest to largest for median\n",
    "    length2= len(list2) #asking for the length of list2\n",
    "    m= (length2-1) //2 #m is that length-1 floor divided by 2 so if list is 10 long, 9//2 will give 4th position\n",
    "    \n",
    "    if (length2 % 2): #if the list has an odd length and mod(%) has a remainder then return->\n",
    "        return list2[m]\n",
    "    else: #or else if the list has an even length need to take the two middle values added together->\n",
    "        return(list2[m] + list2[m+1])/2.0"
   ]
  },
  {
   "cell_type": "markdown",
   "metadata": {},
   "source": [
    "Create and test some sample lists to demonstrate that your `median()` function works correctly."
   ]
  },
  {
   "cell_type": "code",
   "execution_count": 63,
   "metadata": {},
   "outputs": [
    {
     "name": "stdout",
     "output_type": "stream",
     "text": [
      "10\n",
      "2.5\n"
     ]
    }
   ],
   "source": [
    "list2= [8,9,10,11,12] #remember python lists are 0- indexed so first element is 0, second is 1, etc.\n",
    "\n",
    "print(median(list2))\n",
    "\n",
    "list2=[1,2,3,4]\n",
    "\n",
    "print(median(list2))\n",
    "#function working properly"
   ]
  },
  {
   "cell_type": "markdown",
   "metadata": {},
   "source": [
    "### Problem 3\n",
    "\n",
    "Write a Python function to find the roots of a quadratic equation, $ax^2 + bx + c = 0$. (The easiest way to do this is by using the [quadratic formula](https://en.wikipedia.org/wiki/Quadratic_formula) that you learned in algebra: $x = \\frac{-b \\pm \\sqrt{b^2 - 4ac}}{2a}$.)  Your function should take three arguments that represent the  coefficients of the equation to solve (e.g., `find_roots(a, b, c)`). If there are no real roots (i.e., if complex numbers would be required), your function can simply return `None`. You will need to use Python's [math package](https://docs.python.org/3/library/math.html) to solve this problem.\n",
    "\n",
    "You may assume that $a$ is non-zero, but if you'd like an extra challenge, have your function handle the case where $a = 0$; that is, when the equation is linear and not quadratic.\n",
    "\n",
    "_Purpose:_ To give you practice implementing numerical computations in Python, translating mathematical statements to code, and using Python packages. And, of course, to give you practice solving problems with Python."
   ]
  },
  {
   "cell_type": "code",
   "execution_count": 57,
   "metadata": {},
   "outputs": [],
   "source": [
    "import math as math #importing math package as math\n",
    "\n",
    "def quadfun(a,b,c): #defining the three variables/arguments a,b,c in function quadfun\n",
    "    discriminant = b**2 - (4 * a * c) #simplifying the discriminant part in the equation\n",
    "    sqrt_dis = math.sqrt(abs(discriminant)) #square rooting that part to break up equation\n",
    "    \n",
    "    if (discriminant >0): #if the discriminant is greater than 0 meaning it is positive and can be square rooted properly\n",
    "        print ((-b + sqrt_dis)/(2*a)) #print the + and - values of this equation\n",
    "        print ((-b - sqrt_dis)/(2*a))\n",
    "        \n",
    "    elif discriminant == 0: #else, if the discriminant is equal to 0, then just do simple equation ->\n",
    "        print(-b/ (2*a))\n",
    "        \n",
    "    else: #or else AKA discrinimant <0 making it e.g. negative, then just print none as the result ->\n",
    "        print(None)"
   ]
  },
  {
   "cell_type": "markdown",
   "metadata": {},
   "source": [
    "Write some code to test your function and confirm it works as expected."
   ]
  },
  {
   "cell_type": "code",
   "execution_count": 58,
   "metadata": {},
   "outputs": [
    {
     "name": "stdout",
     "output_type": "stream",
     "text": [
      "-2.0\n",
      "-6.0\n",
      "None\n",
      "-3.0\n",
      "None\n"
     ]
    }
   ],
   "source": [
    "a=1 #assigning some variables as numbers then printing the function to see if it works\n",
    "b=8\n",
    "c=12\n",
    "print(quadfun(a,b,c))\n",
    "\n",
    "a=1\n",
    "b=6\n",
    "c=9\n",
    "print(quadfun(a,b,c))"
   ]
  },
  {
   "cell_type": "code",
   "execution_count": 59,
   "metadata": {},
   "outputs": [
    {
     "name": "stdout",
     "output_type": "stream",
     "text": [
      "0.5\n",
      "-3.0\n",
      "None\n"
     ]
    }
   ],
   "source": [
    "a=2\n",
    "b=5\n",
    "c=-3\n",
    "print(quadfun(a,b,c))"
   ]
  },
  {
   "cell_type": "code",
   "execution_count": null,
   "metadata": {},
   "outputs": [],
   "source": [
    "#equation seems to have worked successfully"
   ]
  }
 ],
 "metadata": {
  "kernelspec": {
   "display_name": "Python 3.8 (basic)",
   "language": "python",
   "name": "python3"
  },
  "language_info": {
   "codemirror_mode": {
    "name": "ipython",
    "version": 3
   },
   "file_extension": ".py",
   "mimetype": "text/x-python",
   "name": "python",
   "nbconvert_exporter": "python",
   "pygments_lexer": "ipython3",
   "version": "3.8.1"
  }
 },
 "nbformat": 4,
 "nbformat_minor": 4
}
